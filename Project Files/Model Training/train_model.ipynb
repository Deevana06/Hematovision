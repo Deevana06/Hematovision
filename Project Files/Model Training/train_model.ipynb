If the pretrained .h5 model is not available:

1)Open train_model.ipynb in VS Code.

2)Run it step-by-step to:

  *Preprocess data

  *Apply transfer learning (e.g., with VGG16, ResNet50)

  *Save model as model.h5
